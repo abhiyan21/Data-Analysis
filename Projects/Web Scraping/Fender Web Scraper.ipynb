{
 "cells": [
  {
   "cell_type": "code",
   "execution_count": 77,
   "id": "cc2482eb",
   "metadata": {},
   "outputs": [],
   "source": [
    "# import libraries\n",
    "\n",
    "from bs4 import BeautifulSoup\n",
    "import requests\n",
    "import time\n",
    "import datetime\n",
    "import smtplib\n",
    "import csv\n",
    "import pandas as pd"
   ]
  },
  {
   "cell_type": "code",
   "execution_count": 83,
   "id": "2a22fbcb",
   "metadata": {},
   "outputs": [
    {
     "name": "stdout",
     "output_type": "stream",
     "text": [
      "\n",
      "          Fender Acoustasonic Player Telecaster Acoustic Electric Guitar in Brushed Black\n",
      "         \n",
      "\n",
      "              $1,199.99\n",
      "             \n"
     ]
    }
   ],
   "source": [
    "# connection to the website\n",
    "\n",
    "URL = 'https://www.kenstanton.com/products/fender-acoustasonic-player-telecaster-acoustic-electric-guitar-in-brushed-black?_vsrefdom=googleads&gclid=EAIaIQobChMIi5PX_qWX-QIVohx9Ch3LuAyEEAQYFyABEgKDgvD_BwE'\n",
    "headers = {\"User-Agent\": \"Mozilla/5.0 (Windows NT 10.0; Win64; x64) AppleWebKit/537.36 (KHTML, like Gecko) Chrome/103.0.0.0 Safari/537.36\", \n",
    "    \"X-Amzn-Trace-Id\": \"Root=1-62e035a0-19f8cf1a6a37bac2403fb1f8\"}\n",
    "\n",
    "page = requests.get(URL, headers = headers)\n",
    "\n",
    "Soup = BeautifulSoup(page.content, 'html.parser') #pulling content from the webPage\n",
    "\n",
    "# print(Soup1)\n",
    "\n",
    "Soup2 = BeautifulSoup(Soup.prettify(), 'html.parser')\n",
    "\n",
    "try:\n",
    "    title = Soup2.find(class_ = \"product-single__title desktop_product_title\").get_text()\n",
    "    print(title)\n",
    "except AttributeError:\n",
    "    print('Not Found!')\n",
    "    \n",
    "try:\n",
    "    price = Soup2.find(id = 'ProductPrice-product-template-factory-rebates').get_text()\n",
    "    print(price)\n",
    "except AttributeError:\n",
    "    print('Not Found!')"
   ]
  },
  {
   "cell_type": "code",
   "execution_count": 85,
   "id": "85a6c001",
   "metadata": {},
   "outputs": [
    {
     "name": "stdout",
     "output_type": "stream",
     "text": [
      "Fender Acoustasonic Player Telecaster Acoustic Electric Guitar in Brushed Black\n",
      "$1,199.99\n"
     ]
    }
   ],
   "source": [
    "title = title.strip()\n",
    "price = price.strip()"
   ]
  },
  {
   "cell_type": "code",
   "execution_count": 89,
   "id": "97163b43",
   "metadata": {},
   "outputs": [
    {
     "name": "stdout",
     "output_type": "stream",
     "text": [
      "2022-07-28\n"
     ]
    }
   ],
   "source": [
    "date = datetime.date.today()\n",
    "print(date)"
   ]
  },
  {
   "cell_type": "code",
   "execution_count": 130,
   "id": "7b6e7340",
   "metadata": {},
   "outputs": [],
   "source": [
    "header = ['Title', 'Price', 'Date']\n",
    "\n",
    "data = [title, price, date]\n",
    "\n",
    "# type(data)\n",
    "\n",
    "with open('priceFender.csv', 'w', newline = '', encoding = 'UTF8') as f:\n",
    "    writer = csv.writer(f)\n",
    "    writer.writerow(header)\n",
    "    writer.writerow(data)"
   ]
  },
  {
   "cell_type": "code",
   "execution_count": 129,
   "id": "13f9e6f7",
   "metadata": {},
   "outputs": [
    {
     "name": "stdout",
     "output_type": "stream",
     "text": [
      "                                               Title      Price        Date\n",
      "0  Fender Acoustasonic Player Telecaster Acoustic...  $1,199.99  2022-07-28\n",
      "1  Fender Acoustasonic Player Telecaster Acoustic...  $1,199.99  2022-07-28\n",
      "2  Fender Acoustasonic Player Telecaster Acoustic...  $1,199.99  2022-07-28\n",
      "3  Fender Acoustasonic Player Telecaster Acoustic...  $1,199.99  2022-07-28\n"
     ]
    }
   ],
   "source": [
    "df = pd.read_csv(r'C:\\Users\\abhiy\\priceFender.csv')\n",
    "print(df)"
   ]
  },
  {
   "cell_type": "code",
   "execution_count": 82,
   "id": "3733aadc",
   "metadata": {},
   "outputs": [
    {
     "data": {
      "text/plain": [
       "list"
      ]
     },
     "execution_count": 82,
     "metadata": {},
     "output_type": "execute_result"
    }
   ],
   "source": [
    "type(data)"
   ]
  },
  {
   "cell_type": "code",
   "execution_count": 127,
   "id": "04d6f2f8",
   "metadata": {},
   "outputs": [],
   "source": [
    "# appending new data\n",
    "with open('priceFender.csv', 'a+', newline='', encoding='UTF8') as f:\n",
    "    writer = csv.writer(f)\n",
    "    writer.writerow(data)"
   ]
  },
  {
   "cell_type": "code",
   "execution_count": 136,
   "id": "c0ae35b4",
   "metadata": {},
   "outputs": [],
   "source": [
    "import csv\n",
    "import datetime\n",
    "def priceChange():\n",
    "    URL = 'https://www.kenstanton.com/products/fender-acoustasonic-player-telecaster-acoustic-electric-guitar-in-brushed-black?_vsrefdom=googleads&gclid=EAIaIQobChMIi5PX_qWX-QIVohx9Ch3LuAyEEAQYFyABEgKDgvD_BwE'\n",
    "    headers = {\"User-Agent\": \"Mozilla/5.0 (Windows NT 10.0; Win64; x64) AppleWebKit/537.36 (KHTML, like Gecko) Chrome/103.0.0.0 Safari/537.36\", \n",
    "    \"X-Amzn-Trace-Id\": \"Root=1-62e035a0-19f8cf1a6a37bac2403fb1f8\"}\n",
    "\n",
    "    page = requests.get(URL, headers = headers)\n",
    "\n",
    "    Soup = BeautifulSoup(page.content, 'html.parser') #pulling content from the webPage\n",
    "\n",
    "    # print(Soup1)\n",
    "\n",
    "    Soup2 = BeautifulSoup(Soup.prettify(), 'html.parser')\n",
    "\n",
    "    try:\n",
    "        title = Soup2.find(class_ = \"product-single__title desktop_product_title\").get_text()\n",
    "        title = title.strip()\n",
    "        print(title)\n",
    "    except AttributeError:\n",
    "        print('Not Found!')\n",
    "\n",
    "    try:\n",
    "        price = Soup2.find(id = 'ProductPrice-product-template-factory-rebates').get_text()\n",
    "        price = price.strip()\n",
    "        print(price)\n",
    "    except AttributeError:\n",
    "        print('Not Found!')\n",
    "\n",
    "    date = datetime.date.today()\n",
    "    print(date)\n",
    "    \n",
    "    header = ['Title', 'Price', 'Date']\n",
    "    data = [title, price, date]\n",
    "    \n",
    "    with open('priceFender.csv', 'a+', newline='', encoding='UTF8') as f:\n",
    "        writer = csv.writer(f)\n",
    "        writer.writerow(data)\n",
    "    \n",
    "    if (price < 1300):\n",
    "        sendMail()"
   ]
  },
  {
   "cell_type": "code",
   "execution_count": 125,
   "id": "0e488295",
   "metadata": {},
   "outputs": [
    {
     "name": "stdout",
     "output_type": "stream",
     "text": [
      "Fender Acoustasonic Player Telecaster Acoustic Electric Guitar in Brushed Black\n",
      "$1,199.99\n",
      "2022-07-28\n"
     ]
    },
    {
     "ename": "KeyboardInterrupt",
     "evalue": "",
     "output_type": "error",
     "traceback": [
      "\u001b[1;31m---------------------------------------------------------------------------\u001b[0m",
      "\u001b[1;31mKeyboardInterrupt\u001b[0m                         Traceback (most recent call last)",
      "Input \u001b[1;32mIn [125]\u001b[0m, in \u001b[0;36m<cell line: 2>\u001b[1;34m()\u001b[0m\n\u001b[0;32m      1\u001b[0m \u001b[38;5;28;01mwhile\u001b[39;00m(\u001b[38;5;28;01mTrue\u001b[39;00m):\n\u001b[0;32m      2\u001b[0m     priceChange()\n\u001b[1;32m----> 3\u001b[0m     \u001b[43mtime\u001b[49m\u001b[38;5;241;43m.\u001b[39;49m\u001b[43msleep\u001b[49m\u001b[43m(\u001b[49m\u001b[38;5;241;43m5\u001b[39;49m\u001b[43m)\u001b[49m\n",
      "\u001b[1;31mKeyboardInterrupt\u001b[0m: "
     ]
    }
   ],
   "source": [
    "while(True):\n",
    "    priceChange()\n",
    "    time.sleep(86400)"
   ]
  },
  {
   "cell_type": "code",
   "execution_count": 135,
   "id": "42331b16",
   "metadata": {},
   "outputs": [],
   "source": [
    "# yet to be tested\n",
    "def sendMail():\n",
    "    sender = \"abhiyansapkota02@gmail.com\"\n",
    "    pw = input(str(\"Enter Password: \"))\n",
    "    rec = \"abhiyan.as97@gmail.com\"\n",
    "    body = \"The price went down below $1300\"\n",
    "    \n",
    "    server = smtplib.SMTP('smtp.gmail.com', 587)\n",
    "    server.starttls()\n",
    "    server.login(sender, pw)\n",
    "    server.sendmail(sender, rec, body)"
   ]
  },
  {
   "cell_type": "code",
   "execution_count": null,
   "id": "f4429a3b",
   "metadata": {},
   "outputs": [],
   "source": []
  }
 ],
 "metadata": {
  "kernelspec": {
   "display_name": "Python 3 (ipykernel)",
   "language": "python",
   "name": "python3"
  },
  "language_info": {
   "codemirror_mode": {
    "name": "ipython",
    "version": 3
   },
   "file_extension": ".py",
   "mimetype": "text/x-python",
   "name": "python",
   "nbconvert_exporter": "python",
   "pygments_lexer": "ipython3",
   "version": "3.9.12"
  }
 },
 "nbformat": 4,
 "nbformat_minor": 5
}
